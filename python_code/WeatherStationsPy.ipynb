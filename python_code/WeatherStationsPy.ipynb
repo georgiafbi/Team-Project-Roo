{
 "cells": [
  {
   "cell_type": "code",
   "execution_count": 110,
   "metadata": {},
   "outputs": [],
   "source": [
    "import pandas as pd\n",
    "import matplotlib.pyplot as plt\n",
    "# Dependencies\n",
    "import requests\n",
    "from pprint import pprint\n",
    "import numpy as np\n",
    "import gmaps\n",
    "import json\n",
    "import os\n",
    "from scipy.stats import linregress\n",
    "from datetime import datetime\n",
    "import time\n",
    "\n",
    "# Google developer API key\n",
    "from config import g_key"
   ]
  },
  {
   "cell_type": "code",
   "execution_count": 111,
   "metadata": {},
   "outputs": [],
   "source": [
    "stations_df = pd.read_csv(\"..csv_files/weather_stations_codes.csv\", sep=\";\")"
   ]
  },
  {
   "cell_type": "code",
   "execution_count": 112,
   "metadata": {},
   "outputs": [],
   "source": [
    "stations_df=stations_df.rename(columns={\"Nome\": \"Name\",\"Código\": \"Code\", \"Status da Operação\":\"Operation Status\", \"Ínicio da Operação\": \"Start of Operation\"})"
   ]
  },
  {
   "cell_type": "code",
   "execution_count": 119,
   "metadata": {},
   "outputs": [],
   "source": [
    "stations_df.to_csv(\"..csv_files/original_brazil_weather_stations.csv\")\n",
    "stations_ndf=stations_df.drop([\"Operation Status\",\"Start of Operation\"], axis=1)"
   ]
  },
  {
   "cell_type": "code",
   "execution_count": 120,
   "metadata": {},
   "outputs": [],
   "source": [
    "stations_ndf.to_csv(\"cleaned_brazil_weather_stations.csv\")\n",
    "stations_ndf[[\"Station\", \"State\"]]=stations_ndf.Name.str.split(\"-\",expand=True)\n",
    "stations_ndf=stations_ndf.drop([\"Name\", \"Latitude\", \"Longitude\", \"Altitude\"],axis=1)\n",
    "stations_ndf=stations_ndf.rename(columns={\"Station\": \"Station Name\", \"Code\":\"Station\"})"
   ]
  },
  {
   "cell_type": "code",
   "execution_count": 121,
   "metadata": {},
   "outputs": [],
   "source": [
    "stations_ndf.to_csv(\"..csv_files/station_and_state.csv\")"
   ]
  },
  {
   "cell_type": "code",
   "execution_count": 122,
   "metadata": {},
   "outputs": [
    {
     "data": {
      "text/html": [
       "<div>\n",
       "<style scoped>\n",
       "    .dataframe tbody tr th:only-of-type {\n",
       "        vertical-align: middle;\n",
       "    }\n",
       "\n",
       "    .dataframe tbody tr th {\n",
       "        vertical-align: top;\n",
       "    }\n",
       "\n",
       "    .dataframe thead th {\n",
       "        text-align: right;\n",
       "    }\n",
       "</style>\n",
       "<table border=\"1\" class=\"dataframe\">\n",
       "  <thead>\n",
       "    <tr style=\"text-align: right;\">\n",
       "      <th></th>\n",
       "      <th>Station</th>\n",
       "      <th>Station Name</th>\n",
       "      <th>State</th>\n",
       "    </tr>\n",
       "  </thead>\n",
       "  <tbody>\n",
       "    <tr>\n",
       "      <th>0</th>\n",
       "      <td>82294</td>\n",
       "      <td>ACARAU</td>\n",
       "      <td>CE</td>\n",
       "    </tr>\n",
       "    <tr>\n",
       "      <th>1</th>\n",
       "      <td>82989</td>\n",
       "      <td>AGUA BRANCA</td>\n",
       "      <td>AL</td>\n",
       "    </tr>\n",
       "    <tr>\n",
       "      <th>2</th>\n",
       "      <td>83595</td>\n",
       "      <td>AIMORES</td>\n",
       "      <td>MG</td>\n",
       "    </tr>\n",
       "    <tr>\n",
       "      <th>3</th>\n",
       "      <td>83249</td>\n",
       "      <td>ALAGOINHAS</td>\n",
       "      <td>BA</td>\n",
       "    </tr>\n",
       "    <tr>\n",
       "      <th>4</th>\n",
       "      <td>82353</td>\n",
       "      <td>ALTAMIRA</td>\n",
       "      <td>PA</td>\n",
       "    </tr>\n",
       "    <tr>\n",
       "      <th>...</th>\n",
       "      <td>...</td>\n",
       "      <td>...</td>\n",
       "      <td>...</td>\n",
       "    </tr>\n",
       "    <tr>\n",
       "      <th>260</th>\n",
       "      <td>83642</td>\n",
       "      <td>VICOSA</td>\n",
       "      <td>MG</td>\n",
       "    </tr>\n",
       "    <tr>\n",
       "      <th>261</th>\n",
       "      <td>83648</td>\n",
       "      <td>VITORIA</td>\n",
       "      <td>ES</td>\n",
       "    </tr>\n",
       "    <tr>\n",
       "      <th>262</th>\n",
       "      <td>83344</td>\n",
       "      <td>VITORIA DA CONQUISTA</td>\n",
       "      <td>BA</td>\n",
       "    </tr>\n",
       "    <tr>\n",
       "      <th>263</th>\n",
       "      <td>83623</td>\n",
       "      <td>VOTUPORANGA</td>\n",
       "      <td>SP</td>\n",
       "    </tr>\n",
       "    <tr>\n",
       "      <th>264</th>\n",
       "      <td>82376</td>\n",
       "      <td>ZE DOCA</td>\n",
       "      <td>MA</td>\n",
       "    </tr>\n",
       "  </tbody>\n",
       "</table>\n",
       "<p>265 rows × 3 columns</p>\n",
       "</div>"
      ],
      "text/plain": [
       "     Station           Station Name State\n",
       "0      82294                ACARAU     CE\n",
       "1      82989           AGUA BRANCA     AL\n",
       "2      83595               AIMORES     MG\n",
       "3      83249            ALAGOINHAS     BA\n",
       "4      82353              ALTAMIRA     PA\n",
       "..       ...                    ...   ...\n",
       "260    83642                VICOSA     MG\n",
       "261    83648               VITORIA     ES\n",
       "262    83344  VITORIA DA CONQUISTA     BA\n",
       "263    83623           VOTUPORANGA     SP\n",
       "264    82376               ZE DOCA     MA\n",
       "\n",
       "[265 rows x 3 columns]"
      ]
     },
     "execution_count": 122,
     "metadata": {},
     "output_type": "execute_result"
    }
   ],
   "source": [
    "stations_ndf"
   ]
  },
  {
   "cell_type": "code",
   "execution_count": 143,
   "metadata": {},
   "outputs": [
    {
     "data": {
      "text/plain": [
       "str"
      ]
     },
     "execution_count": 143,
     "metadata": {},
     "output_type": "execute_result"
    }
   ],
   "source": [
    "type(stations_ndf[\"State\"][260])"
   ]
  },
  {
   "cell_type": "code",
   "execution_count": 144,
   "metadata": {},
   "outputs": [],
   "source": [
    "num=str(stations_ndf[\"State\"][260])"
   ]
  },
  {
   "cell_type": "code",
   "execution_count": 145,
   "metadata": {},
   "outputs": [
    {
     "data": {
      "text/plain": [
       "' MG'"
      ]
     },
     "execution_count": 145,
     "metadata": {},
     "output_type": "execute_result"
    }
   ],
   "source": [
    "num"
   ]
  },
  {
   "cell_type": "code",
   "execution_count": 146,
   "metadata": {},
   "outputs": [
    {
     "data": {
      "text/html": [
       "<div>\n",
       "<style scoped>\n",
       "    .dataframe tbody tr th:only-of-type {\n",
       "        vertical-align: middle;\n",
       "    }\n",
       "\n",
       "    .dataframe tbody tr th {\n",
       "        vertical-align: top;\n",
       "    }\n",
       "\n",
       "    .dataframe thead th {\n",
       "        text-align: right;\n",
       "    }\n",
       "</style>\n",
       "<table border=\"1\" class=\"dataframe\">\n",
       "  <thead>\n",
       "    <tr style=\"text-align: right;\">\n",
       "      <th></th>\n",
       "      <th>Station</th>\n",
       "      <th>Station Name</th>\n",
       "      <th>State</th>\n",
       "    </tr>\n",
       "  </thead>\n",
       "  <tbody>\n",
       "    <tr>\n",
       "      <th>4</th>\n",
       "      <td>82353</td>\n",
       "      <td>ALTAMIRA</td>\n",
       "      <td>PA</td>\n",
       "    </tr>\n",
       "    <tr>\n",
       "      <th>5</th>\n",
       "      <td>82970</td>\n",
       "      <td>ALTO PARNAIBA</td>\n",
       "      <td>MA</td>\n",
       "    </tr>\n",
       "    <tr>\n",
       "      <th>10</th>\n",
       "      <td>82659</td>\n",
       "      <td>ARAGUAINA</td>\n",
       "      <td>TO</td>\n",
       "    </tr>\n",
       "    <tr>\n",
       "      <th>17</th>\n",
       "      <td>82460</td>\n",
       "      <td>BACABAL</td>\n",
       "      <td>MA</td>\n",
       "    </tr>\n",
       "    <tr>\n",
       "      <th>19</th>\n",
       "      <td>82768</td>\n",
       "      <td>BALSAS</td>\n",
       "      <td>MA</td>\n",
       "    </tr>\n",
       "    <tr>\n",
       "      <th>...</th>\n",
       "      <td>...</td>\n",
       "      <td>...</td>\n",
       "      <td>...</td>\n",
       "    </tr>\n",
       "    <tr>\n",
       "      <th>248</th>\n",
       "      <td>82317</td>\n",
       "      <td>TEFE</td>\n",
       "      <td>AM</td>\n",
       "    </tr>\n",
       "    <tr>\n",
       "      <th>251</th>\n",
       "      <td>82145</td>\n",
       "      <td>TRACUATEUA</td>\n",
       "      <td>PA</td>\n",
       "    </tr>\n",
       "    <tr>\n",
       "      <th>253</th>\n",
       "      <td>82361</td>\n",
       "      <td>TUCURUI</td>\n",
       "      <td>PA</td>\n",
       "    </tr>\n",
       "    <tr>\n",
       "      <th>254</th>\n",
       "      <td>82198</td>\n",
       "      <td>TURIACU</td>\n",
       "      <td>MA</td>\n",
       "    </tr>\n",
       "    <tr>\n",
       "      <th>264</th>\n",
       "      <td>82376</td>\n",
       "      <td>ZE DOCA</td>\n",
       "      <td>MA</td>\n",
       "    </tr>\n",
       "  </tbody>\n",
       "</table>\n",
       "<p>61 rows × 3 columns</p>\n",
       "</div>"
      ],
      "text/plain": [
       "     Station    Station Name State\n",
       "4      82353       ALTAMIRA     PA\n",
       "5      82970  ALTO PARNAIBA     MA\n",
       "10     82659      ARAGUAINA     TO\n",
       "17     82460        BACABAL     MA\n",
       "19     82768         BALSAS     MA\n",
       "..       ...             ...   ...\n",
       "248    82317           TEFE     AM\n",
       "251    82145     TRACUATEUA     PA\n",
       "253    82361        TUCURUI     PA\n",
       "254    82198        TURIACU     MA\n",
       "264    82376        ZE DOCA     MA\n",
       "\n",
       "[61 rows x 3 columns]"
      ]
     },
     "execution_count": 146,
     "metadata": {},
     "output_type": "execute_result"
    }
   ],
   "source": [
    "states=[' AP',\" AM\",\" MA\",\" MT\",\" PA\",\" RO\",\" RR\",\" TO\"]\n",
    "results=stations_ndf.loc[stations_ndf[\"State\"].isin(states)]\n",
    "results"
   ]
  },
  {
   "cell_type": "code",
   "execution_count": null,
   "metadata": {},
   "outputs": [],
   "source": []
  }
 ],
 "metadata": {
  "kernelspec": {
   "display_name": "Python 3",
   "language": "python",
   "name": "python3"
  },
  "language_info": {
   "codemirror_mode": {
    "name": "ipython",
    "version": 3
   },
   "file_extension": ".py",
   "mimetype": "text/x-python",
   "name": "python",
   "nbconvert_exporter": "python",
   "pygments_lexer": "ipython3",
   "version": "3.8.5"
  }
 },
 "nbformat": 4,
 "nbformat_minor": 4
}
