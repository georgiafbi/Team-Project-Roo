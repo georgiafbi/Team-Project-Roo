{
 "cells": [
  {
   "cell_type": "code",
   "execution_count": 32,
   "metadata": {},
   "outputs": [],
   "source": [
    "import pandas as pd\n",
    "import matplotlib.pyplot as plt\n",
    "# Dependencies\n",
    "import requests\n",
    "from pprint import pprint\n",
    "import numpy as np\n",
    "import gmaps\n",
    "import json\n",
    "import os\n",
    "from scipy.stats import linregress\n",
    "from datetime import datetime\n",
    "import time\n",
    "\n",
    "# Google developer API key\n",
    "#from config import g_key"
   ]
  },
  {
   "cell_type": "code",
   "execution_count": 33,
   "metadata": {},
   "outputs": [],
   "source": [
    "deforest_df = pd.read_csv(\"csv_files/clean_defostation_data.csv\")\n",
    "tot_rainfall_df=pd.read_csv('csv_files/total_rainfall_by_year_by_state.csv')\n",
    "\n",
    "#deforest_df=deforest_df.drop(\"Grand Total\", axis =1)\n",
    "deforest_df=deforest_df.rename(columns={\"Grand Total\": \"Total_Deforested_km2\"})\n",
    "\n",
    "tot_rain=tot_rainfall_df.drop([\"Unnamed: 0\"], axis =1)\n",
    "\n",
    "trp=tot_rain.pivot_table(values=\"rain_sum\", index=\"Year\", columns=\"State\")\n",
    "trp=trp.fillna(0)\n",
    "\n",
    "trp[\"Total_Rain_mm\"]= trp.AC+trp.AM+trp.AP+trp.MA+trp.MT+trp.PA+trp.RR+trp.TO\n",
    "\n",
    "trp=trp.rename(columns={\"AC\":\"AC_mm\", \"AM\":\"AM_mm\",\"AP\":\"AP_mm\",\"MA\":\"MA_mm\",\"MT\":\"MT_mm\",\"PA\":\"PA_mm\",\"RR\":\"RR_mm\",\"TO\":\"TO_mm\"})\n",
    "trp.to_csv(\"useable_csv/rainfall_data.csv\")\n",
    "\n",
    "deforest_df=deforest_df.reindex(columns=['Year','AC_km2','AM_km2','AP_km2','MA_km2','MT_km2','PA_km2','RR_km2','TO_km2','Total_Deforested_km2']).set_index(\"Year\")\n",
    "\n",
    "deforest_df=deforest_df.drop(index=2020)\n",
    "\n",
    "deforest_df.to_csv(\"useable_csv/deforestation_data.csv\")"
   ]
  },
  {
   "cell_type": "code",
   "execution_count": null,
   "metadata": {},
   "outputs": [],
   "source": [
    "deforest_df.plot(sharex=False,subplots=True,layout=(5,2),figsize=(20,15),ylabel=\"Deforested Area (km^2)\")\n",
    "plt.tight_layout()\n",
    "plt.show()"
   ]
  },
  {
   "cell_type": "code",
   "execution_count": null,
   "metadata": {},
   "outputs": [],
   "source": []
  },
  {
   "cell_type": "code",
   "execution_count": null,
   "metadata": {},
   "outputs": [],
   "source": []
  },
  {
   "cell_type": "code",
   "execution_count": null,
   "metadata": {},
   "outputs": [],
   "source": [
    "#fig, axes = plt.subplots(nrows=9,ncols=1, figsize=(15,15))\n",
    "states1=[\"ACRE\", \"AP\",\"AM\",\"MA\",\"MT\",\"PA\", \"RO\", \"RR\", \"TO\"]\n",
    "states2=[' AC', ' AP',\" AM\",\" MA\",\" MT\",\" PA\",\" RO\",\" RR\",\" TO\"]\n",
    "count=0\n",
    "for j in range(1):\n",
    "    for i in range(9):\n",
    "        #ax=axes[i]\n",
    "        x1=deforest_df[\"Years\"].unique().tolist()\n",
    "        #print(len(x1))\n",
    "        y1=(deforest_df[states1[i]]).tolist()\n",
    "        count+=1\n",
    "        #print(len(y1))\n",
    "        x2=ave_rain_df[\"Year\"].unique().tolist()\n",
    "        print(f\"rain x: {len(x2)}\")\n",
    "        y2=(ave_rain_df.loc[ave_rain_df[\"State\"]==states2[i]][\"Precipitation\"]).tolist()\n",
    "        print(f\"rain y: {states2[i]}: {len(y2)}\")\n",
    "        #ax2=ax.twinx()\n",
    "        #ax.plot(x1,y1,'r')\n",
    "        #ax.set_xlabel(\"Year\")\n",
    "        #ax.set_ylabel(\"Deforestation (km^2)\")\n",
    "        #ax2.plot(x2,y2,'g')\n",
    "        #ax2.set_ylabel(\"Precipitation (mm)\")\n",
    "        #plt.tight_layout()\n",
    "        #plt.show()\n",
    "        \n",
    "#get correct years/number of years data was recorded for each state. "
   ]
  },
  {
   "cell_type": "code",
   "execution_count": null,
   "metadata": {},
   "outputs": [],
   "source": []
  },
  {
   "cell_type": "code",
   "execution_count": null,
   "metadata": {},
   "outputs": [],
   "source": []
  },
  {
   "cell_type": "code",
   "execution_count": null,
   "metadata": {},
   "outputs": [],
   "source": []
  },
  {
   "cell_type": "code",
   "execution_count": null,
   "metadata": {},
   "outputs": [],
   "source": [
    "new_df.plot(sharex=False,subplots=True,layout=(5,2),figsize=(20,15),ylabel=\"Deforested Area (km^2)\")\n",
    "plt.tight_layout()\n",
    "plt.show()"
   ]
  },
  {
   "cell_type": "code",
   "execution_count": null,
   "metadata": {},
   "outputs": [],
   "source": [
    "ax=ave_rainfall_df.pivot(index='Year',columns=\"State\",values=\"Precipitation\")\n",
    "ax.plot(kind=\"line\",ylabel=\"Precipitation (mm)\",figsize=(25,10),title=\"Precipitation for Brazilian States from 1988 to 2019\")\n",
    "plt.show()"
   ]
  },
  {
   "cell_type": "code",
   "execution_count": null,
   "metadata": {},
   "outputs": [],
   "source": []
  }
 ],
 "metadata": {
  "kernelspec": {
   "display_name": "Python 3",
   "language": "python",
   "name": "python3"
  },
  "language_info": {
   "codemirror_mode": {
    "name": "ipython",
    "version": 3
   },
   "file_extension": ".py",
   "mimetype": "text/x-python",
   "name": "python",
   "nbconvert_exporter": "python",
   "pygments_lexer": "ipython3",
   "version": "3.8.5"
  }
 },
 "nbformat": 4,
 "nbformat_minor": 4
}
