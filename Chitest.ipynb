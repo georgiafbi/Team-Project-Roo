{
 "cells": [
  {
   "cell_type": "markdown",
   "metadata": {},
   "source": [
    "# Chi-square Testing"
   ]
  },
  {
   "cell_type": "code",
   "execution_count": 20,
   "metadata": {},
   "outputs": [],
   "source": [
    "import pandas as pd\n",
    "import matplotlib.pyplot as plt\n",
    "# Dependencies\n",
    "import requests\n",
    "from pprint import pprint\n",
    "import numpy as np\n",
    "import gmaps\n",
    "import json\n",
    "import os\n",
    "import scipy.stats as stats\n",
    "from datetime import datetime\n",
    "import time"
   ]
  },
  {
   "cell_type": "code",
   "execution_count": 21,
   "metadata": {},
   "outputs": [],
   "source": [
    "rainfall_df = pd.read_csv(\"useable_csv/rainfall_data_97.csv\")\n",
    "rainfall_df=rainfall_df.set_index(\"Year\")"
   ]
  },
  {
   "cell_type": "markdown",
   "metadata": {},
   "source": [
    "## Chi-square Calculation Algorithm\n",
    "\n",
    "#### Calculates the p_value, critical_value, and chi-square value for the observed precipitation data vs the expected precipitation overtime (deforestation does not deminish precipitation in the areas of deforestation). "
   ]
  },
  {
   "cell_type": "code",
   "execution_count": 22,
   "metadata": {},
   "outputs": [
    {
     "name": "stdout",
     "output_type": "stream",
     "text": [
      "Chi square value for rainfall in AC_mm is 1272.58 with a p_value of 1.4006864491815523e-255\n",
      "For rainfall in AC_mm, the critical value is 33.92\n",
      "\n",
      "Chi square value for rainfall in AM_mm is 808.04 with a p_value of 1.1261843447123882e-156\n",
      "For rainfall in AM_mm, the critical value is 33.92\n",
      "\n",
      "Chi square value for rainfall in AP_mm is 557.6 with a p_value of 6.738292660037513e-104\n",
      "For rainfall in AP_mm, the critical value is 33.92\n",
      "\n",
      "Chi square value for rainfall in MA_mm is 1602.02 with a p_value of 0.0\n",
      "For rainfall in MA_mm, the critical value is 33.92\n",
      "\n",
      "Chi square value for rainfall in MT_mm is 212654.43 with a p_value of 0.0\n",
      "For rainfall in MT_mm, the critical value is 33.92\n",
      "\n",
      "Chi square value for rainfall in PA_mm is 1797.93 with a p_value of 0.0\n",
      "For rainfall in PA_mm, the critical value is 33.92\n",
      "\n",
      "Chi square value for rainfall in RR_mm is 9228.21 with a p_value of 0.0\n",
      "For rainfall in RR_mm, the critical value is 33.92\n",
      "\n",
      "Chi square value for rainfall in TO_mm is 875.66 with a p_value of 5.209006625713198e-171\n",
      "For rainfall in TO_mm, the critical value is 33.92\n",
      "\n",
      "Chi square value for rainfall in Total_Rain_mm is 1850.04 with a p_value of 0.0\n",
      "For rainfall in Total_Rain_mm, the critical value is 33.92\n",
      "\n"
     ]
    }
   ],
   "source": [
    "cols = rainfall_df.columns.tolist()\n",
    "#calculates p_value, c_value, and chi_value for each state \n",
    "p_value=[]\n",
    "c_value=[]\n",
    "chi_value=[]\n",
    "chi_dict = {\"p_value\":p_value,\"critical_value\":c_value,\"chi_square_value\":chi_value,\"State\":cols}\n",
    "for i in cols:\n",
    "    observed=rainfall_df.loc[:, i].to_frame()\n",
    "    observed[1]=round(observed.iloc[0,0],2)\n",
    "    #observed[1]=round(observed.mean()[i],2)\n",
    "    observed.columns=[\"Observed\",\"Expected\"]\n",
    "    #print(observed)\n",
    "    critical_value = stats.chi2.ppf(q=0.95, df=len(observed)-1)\n",
    "    c_value.append(round(critical_value,2))\n",
    "    chi_sqr = stats.chisquare(observed[\"Observed\"], observed[\"Expected\"])\n",
    "    chi_value.append(round(chi_sqr[0],2))\n",
    "    p_value.append(chi_sqr[1])\n",
    "    print(f\"Chi square value for rainfall in {i} is {round(chi_sqr[0],2)} with a p_value of {chi_sqr[1]}\")\n",
    "    print(f\"For rainfall in {i}, the critical value is {round(critical_value,2)}\\n\")"
   ]
  },
  {
   "cell_type": "markdown",
   "metadata": {},
   "source": [
    "# Store Chi-square Numbers in to CSV File"
   ]
  },
  {
   "cell_type": "code",
   "execution_count": 23,
   "metadata": {},
   "outputs": [],
   "source": [
    "chi_df=pd.DataFrame.from_dict(chi_dict).set_index(\"State\")\n",
    "\n",
    "chi_df.to_csv(\"useable_csv/chi_square_data.csv\")"
   ]
  },
  {
   "cell_type": "code",
   "execution_count": null,
   "metadata": {},
   "outputs": [],
   "source": [
    "\n",
    "\n",
    "\n",
    "\n",
    "\n",
    "\n",
    "\n",
    "\n",
    "\n",
    "\n",
    "\n",
    "\n",
    "\n",
    "\n",
    "\n",
    "\n",
    "\n",
    "\n",
    "\n",
    "\n",
    "\n",
    "\n",
    "\n",
    "\n",
    "\n",
    "\n",
    "\n",
    "\n",
    "\n",
    "\n",
    "\n",
    "\n",
    "\n",
    "\n",
    "\n",
    "\n",
    "\n",
    "\n",
    "\n",
    "\n",
    "\n",
    "\n",
    "\n",
    "\n",
    "\n",
    "\n",
    "\n",
    "\n",
    "\n",
    "\n"
   ]
  },
  {
   "cell_type": "code",
   "execution_count": null,
   "metadata": {},
   "outputs": [],
   "source": []
  },
  {
   "cell_type": "code",
   "execution_count": null,
   "metadata": {},
   "outputs": [],
   "source": [
    "-"
   ]
  }
 ],
 "metadata": {
  "kernelspec": {
   "display_name": "Python 3",
   "language": "python",
   "name": "python3"
  },
  "language_info": {
   "codemirror_mode": {
    "name": "ipython",
    "version": 3
   },
   "file_extension": ".py",
   "mimetype": "text/x-python",
   "name": "python",
   "nbconvert_exporter": "python",
   "pygments_lexer": "ipython3",
   "version": "3.8.5"
  }
 },
 "nbformat": 4,
 "nbformat_minor": 4
}
